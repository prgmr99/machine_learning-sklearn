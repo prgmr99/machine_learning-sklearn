{
  "nbformat": 4,
  "nbformat_minor": 0,
  "metadata": {
    "colab": {
      "name": "pandas_basic.ipynb",
      "provenance": [],
      "collapsed_sections": [],
      "authorship_tag": "ABX9TyOUkoa12prMMVidfv19aJES",
      "include_colab_link": true
    },
    "kernelspec": {
      "name": "python3",
      "display_name": "Python 3"
    },
    "language_info": {
      "name": "python"
    }
  },
  "cells": [
    {
      "cell_type": "markdown",
      "metadata": {
        "id": "view-in-github",
        "colab_type": "text"
      },
      "source": [
        "<a href=\"https://colab.research.google.com/github/prgmr99/machine_learning-sklearn/blob/main/pandas_basic.ipynb\" target=\"_parent\"><img src=\"https://colab.research.google.com/assets/colab-badge.svg\" alt=\"Open In Colab\"/></a>"
      ]
    },
    {
      "cell_type": "markdown",
      "source": [
        "## **Pandas Basic**\n",
        "\n",
        "The Pandas library is built on Numpy and provides easy to use data structures and data analysis tools for the Python programming language."
      ],
      "metadata": {
        "id": "ho8dR3QbPAYp"
      }
    },
    {
      "cell_type": "code",
      "execution_count": 1,
      "metadata": {
        "id": "c6-__iZ5OC8V"
      },
      "outputs": [],
      "source": [
        "import pandas as pd"
      ]
    },
    {
      "cell_type": "code",
      "source": [
        "# Pandas Data Structure\n",
        "# series\n",
        "s=pd.Series([3,-5,7,4], index=['a','b','c','d'])"
      ],
      "metadata": {
        "id": "7XUkvXanPalv"
      },
      "execution_count": 4,
      "outputs": []
    },
    {
      "cell_type": "code",
      "source": [
        "# DataFrame\n",
        "# A two-dimensional labeled data structure with columns of portentially different types\n",
        "\n",
        "data={'Country': ['Belgium','India','Brazil'],\n",
        "      'Capital':['Brussels','New Delhi','Brasilia'],\n",
        "      'Population':[11190846,1303171035,207847528]}"
      ],
      "metadata": {
        "id": "yXhE7lGtPdgg"
      },
      "execution_count": 5,
      "outputs": []
    },
    {
      "cell_type": "code",
      "source": [
        "df=pd.DataFrame(data, columns=['Country','Capital','Population'])"
      ],
      "metadata": {
        "id": "4njTwayrQdOm"
      },
      "execution_count": 6,
      "outputs": []
    },
    {
      "cell_type": "code",
      "source": [
        "print(df)"
      ],
      "metadata": {
        "colab": {
          "base_uri": "https://localhost:8080/"
        },
        "id": "Sb-fEsMtQk6U",
        "outputId": "7a68f61e-ee01-44b4-8bac-d78ed85b17a6"
      },
      "execution_count": 7,
      "outputs": [
        {
          "output_type": "stream",
          "name": "stdout",
          "text": [
            "   Country    Capital  Population\n",
            "0  Belgium   Brussels    11190846\n",
            "1    India  New Delhi  1303171035\n",
            "2   Brazil   Brasilia   207847528\n"
          ]
        }
      ]
    },
    {
      "cell_type": "code",
      "source": [
        ""
      ],
      "metadata": {
        "id": "Czg2M5fGRMbr"
      },
      "execution_count": null,
      "outputs": []
    }
  ]
}